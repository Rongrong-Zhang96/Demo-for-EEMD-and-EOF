{
 "cells": [
  {
   "cell_type": "code",
   "execution_count": null,
   "id": "driven-bidding",
   "metadata": {},
   "outputs": [],
   "source": [
    "#coding:utf-8\n",
    "import numpy as np\n",
    "import matplotlib.pyplot as plt\n",
    "import gdal\n",
    "import glob\n",
    "from PyEMD import EEMD, EMD, Visualisation\n",
    "from scipy import signal\n",
    "from matplotlib.ticker import MultipleLocator,FixedLocator\n",
    "import matplotlib.dates as mdates\n",
    "import pandas as pd\n",
    "from pandas.plotting import register_matplotlib_converters\n",
    "from eofs.standard import Eof"
   ]
  },
  {
   "cell_type": "code",
   "execution_count": null,
   "id": "laden-output",
   "metadata": {},
   "outputs": [],
   "source": [
    "infile=r'F:\\PDSI\\data\\pdsitif'\n",
    "outfile=r'F:\\PDSI\\data\\mkresult'\n",
    "tifpath=infile+'\\\\'+'1901_1_1.tif'\n",
    "dataset=gdal.Open(tifpath)\n",
    "im_width = dataset.RasterXSize\n",
    "im_height = dataset.RasterYSize\n",
    "im_geotrans = dataset.GetGeoTransform()\n",
    "im_proj = dataset.GetProjection()\n",
    "del dataset\n",
    "alltif=glob.glob(infile+'\\\\*.tif')\n",
    "mydata=np.zeros((len(alltif),im_height,im_width))-999\n",
    "for tif in range(len(alltif)):\n",
    "    dataset=gdal.Open(alltif[tif])\n",
    "    dataz = dataset.ReadAsArray(0,0,im_width,im_height)\n",
    "    mydata[tif,:,:]=dataz\n",
    "    del dataset"
   ]
  },
  {
   "cell_type": "markdown",
   "id": "limited-sender",
   "metadata": {},
   "source": [
    "# Run the EEMD"
   ]
  },
  {
   "cell_type": "code",
   "execution_count": null,
   "id": "composed-protein",
   "metadata": {},
   "outputs": [],
   "source": [
    "datas=[]\n",
    "for j in range(1440):\n",
    "    noe=mydata[j,:,:]\n",
    "    noe=np.mean(noe[noe!=-9999])\n",
    "    datas.append(noe)\n",
    "T = np.arange(0, 1440,1)\n",
    "S = datas\n",
    "eemd = EEMD()\n",
    "eemd.trials = 400\n",
    "eemd.noise_seed(12345)\n",
    "eemd.noise_width=0.2\n",
    "E_IMFs = eemd.eemd(S, T, max_imf=-1)\n",
    "eemd2 = EEMD()\n",
    "eemd2.trials = 400\n",
    "eemd2.separate_trends=True\n",
    "eemd2.noise_seed(12345)\n",
    "eemd2.noise_width=0.2\n",
    "E_IMFs2 = eemd2.eemd(S, T, max_imf=-1)\n",
    "\n",
    "imf=E_IMFs  #IMF result\n",
    "res=E_IMFs2[-1] #RES reslut"
   ]
  },
  {
   "cell_type": "markdown",
   "id": "numeric-million",
   "metadata": {},
   "source": [
    "# Run the EOF"
   ]
  },
  {
   "cell_type": "code",
   "execution_count": null,
   "id": "charitable-tuner",
   "metadata": {},
   "outputs": [],
   "source": [
    "mydata[mydata==-9999]=np.nan\n",
    "lat = np.arange(-90,90,0.5)\n",
    "coslat = np.cos(np.deg2rad(lat))\n",
    "wgts = np.sqrt(coslat)[..., np.newaxis]\n",
    "solver = Eof(mydata, weights=wgts)\n",
    "eof = solver.eofsAsCorrelation(neofs=7)\n",
    "pc = solver.pcs(npcs=7, pcscaling=1)\n",
    "var = solver.varianceFraction()\n",
    "eigen_Values   = solver.eigenvalues()\n",
    "percentContrib = eigen_Values * 100./np.sum(eigen_Values)\n",
    "northTest =solver.northTest()\n",
    "(np.abs(eigen_Values[1:]-eigen_Values[:-1])>northTest[:-1])[0:8]"
   ]
  },
  {
   "cell_type": "markdown",
   "id": "concrete-vacation",
   "metadata": {},
   "source": [
    "# Calculate the annual drought characteristics"
   ]
  },
  {
   "cell_type": "code",
   "execution_count": null,
   "id": "resistant-framing",
   "metadata": {},
   "outputs": [],
   "source": [
    "def data_search(data, level):\n",
    "    listt = []\n",
    "    number=[]\n",
    "    numbertem=[]\n",
    "    temp = []\n",
    "    for i in range(len(data)):\n",
    "        if i < len(data)-1:\n",
    "            if data[i] <= level:\n",
    "                temp.append(data[i])\n",
    "                numbertem.append(i)\n",
    "            else:\n",
    "                listt.append(temp)\n",
    "                number.append(numbertem)\n",
    "                temp = []\n",
    "                numbertem=[]\n",
    "        if i == len(data)-1:\n",
    "            if data[i] <= level:\n",
    "                temp.append(data[i])\n",
    "                numbertem.append(i)\n",
    "                listt.append(temp)\n",
    "                number.append(numbertem)\n",
    "            if data[i] > level:\n",
    "                listt.append(temp)\n",
    "                number.append(numbertem)\n",
    "                temp = []\n",
    "                numbertem=[]\n",
    "    return [i for i in listt if i],[i for i in number if i]"
   ]
  },
  {
   "cell_type": "code",
   "execution_count": null,
   "id": "settled-refund",
   "metadata": {},
   "outputs": [],
   "source": [
    "adsnewdata=np.zeros((int(mydata.shape[0]/12),im_height,im_width))-999\n",
    "addnewdata=np.zeros((int(mydata.shape[0]/12),im_height,im_width))-999\n",
    "adfnewdata=np.zeros((int(mydata.shape[0]/12),im_height,im_width))-999\n",
    "\n",
    "ADS=np.zeros((im_height,im_width))-999\n",
    "ADD=np.zeros((im_height,im_width))-999\n",
    "ADF=np.zeros((im_height,im_width))-999\n",
    "for j in range(mydata.shape[1]):\n",
    "    for k in range(mydata.shape[2]):\n",
    "        if np.where(mydata[:,j,k]==-9999)[0].shape[0]==0:\n",
    "            for i in range(0,int(mydata.shape[0]/12)):\n",
    "                nowdata=mydata[i*12:(i+1)*12,j,k]\n",
    "                adsnewdata[i,j,k]=np.sum(nowdata[nowdata<=-3])\n",
    "                addnewdata[i,j,k]=np.sum(len(nowdata[nowdata<=-3]))\n",
    "                adfnewdata[i,j,k]=len(data_search(list(nowdata),-3))\n",
    "            ADS[j,k]=np.mean(adsnewdata[:,j,k])\n",
    "            ADD[j,k]=np.mean(addnewdata[:,j,k])\n",
    "            ADF[j,k]=np.mean(adfnewdata[:,j,k])"
   ]
  }
 ],
 "metadata": {
  "kernelspec": {
   "display_name": "Python 3",
   "language": "python",
   "name": "python3"
  },
  "language_info": {
   "codemirror_mode": {
    "name": "ipython",
    "version": 3
   },
   "file_extension": ".py",
   "mimetype": "text/x-python",
   "name": "python",
   "nbconvert_exporter": "python",
   "pygments_lexer": "ipython3",
   "version": "3.7.3"
  }
 },
 "nbformat": 4,
 "nbformat_minor": 5
}
